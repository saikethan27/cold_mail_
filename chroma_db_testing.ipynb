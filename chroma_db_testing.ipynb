{
 "cells": [
  {
   "cell_type": "code",
   "execution_count": 1,
   "id": "8f6bb790",
   "metadata": {},
   "outputs": [],
   "source": [
    "import chromadb\n",
    "\n",
    "client=chromadb.Client()\n",
    "collection=client.create_collection(\"test_c\")"
   ]
  },
  {
   "cell_type": "code",
   "execution_count": 2,
   "id": "a9f4e035",
   "metadata": {},
   "outputs": [
    {
     "name": "stdout",
     "output_type": "stream",
     "text": [
      "test_c\n"
     ]
    }
   ],
   "source": [
    "collections = client.list_collections()\n",
    "for coll in collections:\n",
    "    print(coll.name)"
   ]
  },
  {
   "cell_type": "code",
   "execution_count": null,
   "id": "f944154a",
   "metadata": {},
   "outputs": [],
   "source": [
    "collection.add(\n",
    "    documents=[\n",
    "        \"Mumbai is a great city\",\n",
    "        \"New York is not better than Mumbai\",\n",
    "        \"Hyderabad is a better city than Mumbai\"\n",
    "    ],\n",
    "    ids=['id1', 'id2', 'id3']\n",
    ")\n"
   ]
  },
  {
   "cell_type": "markdown",
   "id": "3711bfb2",
   "metadata": {},
   "source": []
  },
  {
   "cell_type": "code",
   "execution_count": 2,
   "id": "3155d289",
   "metadata": {},
   "outputs": [
    {
     "ename": "NameError",
     "evalue": "name 'collection' is not defined",
     "output_type": "error",
     "traceback": [
      "\u001b[1;31m---------------------------------------------------------------------------\u001b[0m",
      "\u001b[1;31mNameError\u001b[0m                                 Traceback (most recent call last)",
      "Cell \u001b[1;32mIn [2], line 1\u001b[0m\n\u001b[1;32m----> 1\u001b[0m all_doc\u001b[38;5;241m=\u001b[39m\u001b[43mcollection\u001b[49m\u001b[38;5;241m.\u001b[39mget()\n\u001b[0;32m      3\u001b[0m \u001b[38;5;28mprint\u001b[39m(all_doc)\n",
      "\u001b[1;31mNameError\u001b[0m: name 'collection' is not defined"
     ]
    }
   ],
   "source": [
    "all_doc=collection.get()\n",
    "\n",
    "print(all_doc)"
   ]
  },
  {
   "cell_type": "code",
   "execution_count": null,
   "id": "e87f4f8d",
   "metadata": {},
   "outputs": [],
   "source": [
    "doc_with_id=collection.get(ids=['id1'])\n",
    "doc_with_id"
   ]
  },
  {
   "cell_type": "code",
   "execution_count": 3,
   "id": "78429980",
   "metadata": {},
   "outputs": [
    {
     "ename": "",
     "evalue": "",
     "output_type": "error",
     "traceback": [
      "\u001b[1;31mThe Kernel crashed while executing code in the current cell or a previous cell. \n",
      "\u001b[1;31mPlease review the code in the cell(s) to identify a possible cause of the failure. \n",
      "\u001b[1;31mClick <a href='https://aka.ms/vscodeJupyterKernelCrash'>here</a> for more info. \n",
      "\u001b[1;31mView Jupyter <a href='command:jupyter.viewOutput'>log</a> for further details."
     ]
    }
   ],
   "source": [
    "import chromadb\n",
    "\n",
    "# Initialize the ChromaDB client\n",
    "client = chromadb.Client()\n",
    "\n",
    "# Create a collection\n",
    "collection = client.create_collection(\"cities\")\n",
    "\n",
    "# Add documents to the collection\n",
    "collection.add(\n",
    "    documents=[\n",
    "        \"Mumbai is a great city\",\n",
    "        \"New York is not better than Mumbai\",\n",
    "        \"Hyderabad is a better city than Mumbai\"\n",
    "    ],\n",
    "    ids=['id1', 'id2', 'id3']\n",
    ")\n",
    "\n",
    "# Access the collection\n",
    "collection = client.get_collection(\"cities\")\n",
    "\n",
    "# Query the collection\n",
    "results = collection.query(\n",
    "    query_texts=[\"Which city is better, Mumbai or Hyderabad?\"],\n",
    "    n_results=3\n",
    ")\n",
    "print(results)\n"
   ]
  }
 ],
 "metadata": {
  "kernelspec": {
   "display_name": "Python 3 (ipykernel)",
   "language": "python",
   "name": "python3"
  },
  "language_info": {
   "codemirror_mode": {
    "name": "ipython",
    "version": 3
   },
   "file_extension": ".py",
   "mimetype": "text/x-python",
   "name": "python",
   "nbconvert_exporter": "python",
   "pygments_lexer": "ipython3",
   "version": "3.10.2"
  }
 },
 "nbformat": 4,
 "nbformat_minor": 5
}
